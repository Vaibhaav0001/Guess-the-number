{
 "cells": [
  {
   "cell_type": "code",
   "execution_count": 13,
   "metadata": {},
   "outputs": [
    {
     "name": "stdout",
     "output_type": "stream",
     "text": [
      "*** GUESS THE NUMBER ***\n",
      "You will be given 3 chances to guess the number\n",
      "Enter range from which you want to select\n",
      "1\n",
      "To\n",
      "100\n",
      "Guess your 1 attempt\n",
      "1\n",
      "Wrong guess!You lose your 1 attempt\n",
      "Guess your 2 attempt\n",
      "2\n",
      "Wrong guess!You lose your 2 attempt\n",
      "Guess your 3 attempt\n",
      "3\n",
      "Wrong guess!You lose your 3 attempt\n",
      "Better try next time\n",
      "The number was 47\n"
     ]
    }
   ],
   "source": [
    "#GUESS THE NUMBER\n",
    "import random\n",
    "print(\"*** GUESS THE NUMBER ***\")\n",
    "print(\"You will be given 3 chances to guess the number\")\n",
    "print(\"Enter range from which you want to select\")\n",
    "n=int(input())\n",
    "print(\"To\")\n",
    "m=int(input())\n",
    "\n",
    "flag=0\n",
    "no=random.randint(n,m)\n",
    "for i in range(1,4):\n",
    "    \n",
    "    print(\"Guess your\",i,\"attempt\")\n",
    "    c=int(input())\n",
    "    if no==c:\n",
    "        print(\"Congrats you won in your\",i,\"attempt!!!\")\n",
    "        flag=1\n",
    "        break\n",
    "    else:\n",
    "        print(\"Wrong guess!You lose your\",i,\"attempt\")\n",
    "        flag=0\n",
    "if flag:\n",
    "     print(\"$$$ You are a Champion $$$\")\n",
    "else:\n",
    "    print(\"Better try next time\")\n",
    "    print(\"The number was\",no)\n",
    "   \n",
    "        \n",
    "\n"
   ]
  },
  {
   "cell_type": "markdown",
   "metadata": {},
   "source": [
    "### "
   ]
  }
 ],
 "metadata": {
  "kernelspec": {
   "display_name": "Python 3",
   "language": "python",
   "name": "python3"
  },
  "language_info": {
   "codemirror_mode": {
    "name": "ipython",
    "version": 3
   },
   "file_extension": ".py",
   "mimetype": "text/x-python",
   "name": "python",
   "nbconvert_exporter": "python",
   "pygments_lexer": "ipython3",
   "version": "3.7.3"
  }
 },
 "nbformat": 4,
 "nbformat_minor": 2
}
